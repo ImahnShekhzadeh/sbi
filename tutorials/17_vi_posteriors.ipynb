{
 "cells": [
  {
   "cell_type": "markdown",
   "source": [
    "# Using Variational Inference for Building Posteriors"
   ],
   "metadata": {
    "collapsed": false
   }
  },
  {
   "cell_type": "markdown",
   "source": [
    "So far, we have seen how to build the posterior in `sbi`. If one uses SNPE, then the posterior can be sampled from directly, yet this comes at the expense of correction terms during training. For SNLE or SNRE, MCMC sampling is required, which is computationally expensive. With SNVI (sequential neural variational inference), it is possible to directly sample from the posterior without any corrections during training or expensive MCMC. This is possible by learning the posterior with variational inference techniques. For this to work, an additional network (one for the likelihood or likelihood-to-evidence-ratio) needs to be trained first."
   ],
   "metadata": {
    "collapsed": false
   }
  },
  {
   "cell_type": "markdown",
   "source": [
    "## Main syntax"
   ],
   "metadata": {
    "collapsed": false
   }
  },
  {
   "cell_type": "code",
   "execution_count": null,
   "outputs": [],
   "source": [
    "inference = SNLE(prior)\n",
    "\n",
    "for _ in range(num_rounds):\n",
    "    theta, x = simulate_for_sbi(simulator, proposal, num_simulations=500)\n",
    "\n",
    "    # In `SNLE` and `SNRE`, you should not pass the `proposal` to `\n",
    "    # .append_simulations()`.\n",
    "    likelihood_estimator = inference.append_simulations(\n",
    "        theta, x,\n",
    "    ).train()\n",
    "\n",
    "    # Obtain potential (learned likelihood * prior) and theta transformation.\n",
    "    potential_fn, theta_transform = likelihood_estimator_based_potential(\n",
    "        likelihood_estimator, prior, x_o\n",
    "    )\n",
    "\n",
    "    # Build posterior via variational inference.\n",
    "    posterior = VIPosterior(\n",
    "        potential_fn, prior, \"maf\", theta_transform, vi_method=\"fKL\",\n",
    "    ).train()\n",
    "    proposal = posterior"
   ],
   "metadata": {
    "collapsed": false
   }
  },
  {
   "cell_type": "markdown",
   "source": [
    "## Linear Gaussian example"
   ],
   "metadata": {
    "collapsed": false
   }
  },
  {
   "cell_type": "markdown",
   "source": [
    "Below, we give a full example of inferring the posterior distribution with SNVI over multiple rounds. For this, we take the same example as in the previous tutorial."
   ],
   "metadata": {
    "collapsed": false
   }
  },
  {
   "cell_type": "code",
   "execution_count": 13,
   "outputs": [],
   "source": [
    "import torch\n",
    "\n",
    "from sbi.inference import (\n",
    "    likelihood_estimator_based_potential,\n",
    "    SNLE,\n",
    "    prepare_for_sbi,\n",
    "    simulate_for_sbi,\n",
    "    VIPosterior,\n",
    ")\n",
    "from sbi import utils as utils\n",
    "from sbi import analysis as analysis\n",
    "\n",
    "_ = torch.manual_seed(0)"
   ],
   "metadata": {
    "collapsed": false,
    "ExecuteTime": {
     "start_time": "2023-06-02T18:48:02.227633Z",
     "end_time": "2023-06-02T18:48:02.229979Z"
    }
   }
  },
  {
   "cell_type": "code",
   "execution_count": 14,
   "outputs": [],
   "source": [
    "num_dim = 3\n",
    "prior = utils.BoxUniform(low=-2 * torch.ones(num_dim), high=2 * torch.ones(num_dim))"
   ],
   "metadata": {
    "collapsed": false,
    "ExecuteTime": {
     "start_time": "2023-06-02T18:48:06.740402Z",
     "end_time": "2023-06-02T18:48:06.787281Z"
    }
   }
  },
  {
   "cell_type": "code",
   "execution_count": 16,
   "outputs": [],
   "source": [
    "def linear_gaussian(theta):\n",
    "    return theta + 1.0 + torch.randn_like(theta) * 0.1"
   ],
   "metadata": {
    "collapsed": false,
    "ExecuteTime": {
     "start_time": "2023-06-02T18:48:08.596906Z",
     "end_time": "2023-06-02T18:48:08.600407Z"
    }
   }
  },
  {
   "cell_type": "code",
   "execution_count": 17,
   "outputs": [],
   "source": [
    "simulator, prior = prepare_for_sbi(linear_gaussian, prior)"
   ],
   "metadata": {
    "collapsed": false,
    "ExecuteTime": {
     "start_time": "2023-06-02T18:48:10.364984Z",
     "end_time": "2023-06-02T18:48:10.368047Z"
    }
   }
  },
  {
   "cell_type": "markdown",
   "source": [
    "Here, we decide to learn the likelihood directly, but learning the likelihood-to-evidence ratio would also be a viable option."
   ],
   "metadata": {
    "collapsed": false
   }
  },
  {
   "cell_type": "code",
   "execution_count": 18,
   "outputs": [],
   "source": [
    "inference = SNLE(prior=prior)"
   ],
   "metadata": {
    "collapsed": false,
    "ExecuteTime": {
     "start_time": "2023-06-02T18:48:11.598504Z",
     "end_time": "2023-06-02T18:48:11.603085Z"
    }
   }
  },
  {
   "cell_type": "markdown",
   "source": [
    "Now we can run inference, where we first learn the likelihood, which is then in turn used to learn a posterior through variational inference."
   ],
   "metadata": {
    "collapsed": false
   }
  },
  {
   "cell_type": "code",
   "execution_count": 20,
   "outputs": [
    {
     "data": {
      "text/plain": "Running 500 simulations.:   0%|          | 0/500 [00:00<?, ?it/s]",
      "application/vnd.jupyter.widget-view+json": {
       "version_major": 2,
       "version_minor": 0,
       "model_id": "782648b65c1c4e9ab4f09617acfa8fab"
      }
     },
     "metadata": {},
     "output_type": "display_data"
    },
    {
     "name": "stdout",
     "output_type": "stream",
     "text": [
      " Neural network successfully converged after 50 epochs."
     ]
    },
    {
     "data": {
      "text/plain": "  0%|          | 0/2000 [00:00<?, ?it/s]",
      "application/vnd.jupyter.widget-view+json": {
       "version_major": 2,
       "version_minor": 0,
       "model_id": "fdf802e069d641c19eb51a7200dc9c0e"
      }
     },
     "metadata": {},
     "output_type": "display_data"
    },
    {
     "name": "stdout",
     "output_type": "stream",
     "text": [
      "\n",
      "Converged with loss: -4.23\n",
      "Quality Score: -0.218 \t Good: Smaller than 0.5  Bad: Larger than 1.0 \t         NOTE: Less sensitive to mode collapse.\n"
     ]
    },
    {
     "data": {
      "text/plain": "Running 500 simulations.:   0%|          | 0/500 [00:00<?, ?it/s]",
      "application/vnd.jupyter.widget-view+json": {
       "version_major": 2,
       "version_minor": 0,
       "model_id": "4bebed20a87e461db83a0fc364902faa"
      }
     },
     "metadata": {},
     "output_type": "display_data"
    },
    {
     "name": "stdout",
     "output_type": "stream",
     "text": [
      " Neural network successfully converged after 47 epochs."
     ]
    },
    {
     "data": {
      "text/plain": "  0%|          | 0/2000 [00:00<?, ?it/s]",
      "application/vnd.jupyter.widget-view+json": {
       "version_major": 2,
       "version_minor": 0,
       "model_id": "a23843b29c1f4cadba0919bd2f635d96"
      }
     },
     "metadata": {},
     "output_type": "display_data"
    },
    {
     "name": "stdout",
     "output_type": "stream",
     "text": [
      "\n",
      "Converged with loss: -4.2\n",
      "Quality Score: 0.025 \t Good: Smaller than 0.5  Bad: Larger than 1.0 \t         NOTE: Less sensitive to mode collapse.\n"
     ]
    }
   ],
   "source": [
    "num_rounds = 2\n",
    "x_o = torch.zeros(3,)\n",
    "\n",
    "posteriors = []\n",
    "proposal = prior\n",
    "\n",
    "for _ in range(num_rounds):\n",
    "    theta, x = simulate_for_sbi(simulator, proposal, num_simulations=500)\n",
    "    likelihood_estimator = inference.append_simulations(\n",
    "        theta, x,\n",
    "    ).train()\n",
    "    potential_fn, theta_transform = likelihood_estimator_based_potential(\n",
    "        likelihood_estimator, prior, x_o\n",
    "    )\n",
    "\n",
    "    posterior = VIPosterior(\n",
    "        potential_fn, prior, \"maf\", theta_transform, vi_method=\"fKL\",\n",
    "    ).train()\n",
    "    posteriors.append(posterior)\n",
    "    proposal = posterior"
   ],
   "metadata": {
    "collapsed": false,
    "ExecuteTime": {
     "start_time": "2023-06-02T18:49:18.959131Z",
     "end_time": "2023-06-02T18:49:50.587676Z"
    }
   }
  },
  {
   "cell_type": "markdown",
   "source": [
    "After having learned the posterior, we use `.pairplot()` to visualize the samples from the learned posterior."
   ],
   "metadata": {
    "collapsed": false
   }
  },
  {
   "cell_type": "code",
   "execution_count": 22,
   "outputs": [
    {
     "data": {
      "text/plain": "<Figure size 500x500 with 9 Axes>",
      "image/png": "[encoded data removed]"
     },
     "metadata": {},
     "output_type": "display_data"
    }
   ],
   "source": [
    "posterior_samples = posterior.sample((10000,), x=x_o)\n",
    "\n",
    "# Plot posterior samples.\n",
    "_ = analysis.pairplot(\n",
    "    posterior_samples, limits=[[-2, 2], [-2, 2], [-2, 2]], figsize=(5, 5)\n",
    ")"
   ],
   "metadata": {
    "collapsed": false,
    "ExecuteTime": {
     "start_time": "2023-06-02T18:52:02.958771Z",
     "end_time": "2023-06-02T18:52:03.456234Z"
    }
   }
  }
 ],
 "metadata": {
  "kernelspec": {
   "display_name": "Python 3",
   "language": "python",
   "name": "python3"
  },
  "language_info": {
   "codemirror_mode": {
    "name": "ipython",
    "version": 2
   },
   "file_extension": ".py",
   "mimetype": "text/x-python",
   "name": "python",
   "nbconvert_exporter": "python",
   "pygments_lexer": "ipython2",
   "version": "2.7.6"
  }
 },
 "nbformat": 4,
 "nbformat_minor": 0
}
